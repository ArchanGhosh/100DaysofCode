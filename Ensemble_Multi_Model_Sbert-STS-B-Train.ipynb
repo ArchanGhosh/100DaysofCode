{
  "nbformat": 4,
  "nbformat_minor": 0,
  "metadata": {
    "colab": {
      "name": "Ensemble Multi - Model Sbert",
      "provenance": []
    },
    "kernelspec": {
      "name": "python3",
      "display_name": "Python 3"
    },
    "language_info": {
      "name": "python"
    },
    "accelerator": "GPU",
    "gpuClass": "standard",
    "widgets": {
      "application/vnd.jupyter.widget-state+json": {
        "c41da71ef1f94c289db080d6a8f4be1e": {
          "model_module": "@jupyter-widgets/controls",
          "model_name": "HBoxModel",
          "model_module_version": "1.5.0",
          "state": {
            "_dom_classes": [],
            "_model_module": "@jupyter-widgets/controls",
            "_model_module_version": "1.5.0",
            "_model_name": "HBoxModel",
            "_view_count": null,
            "_view_module": "@jupyter-widgets/controls",
            "_view_module_version": "1.5.0",
            "_view_name": "HBoxView",
            "box_style": "",
            "children": [
              "IPY_MODEL_5f50b11e7ee64f6489ccb971f28f1e27",
              "IPY_MODEL_2ddb123a8f944d51ab22bf8c44528c41",
              "IPY_MODEL_1366437382e947548ce2081842e465a4"
            ],
            "layout": "IPY_MODEL_031d7f874a0d4a6ba927f071807bf982"
          }
        },
        "5f50b11e7ee64f6489ccb971f28f1e27": {
          "model_module": "@jupyter-widgets/controls",
          "model_name": "HTMLModel",
          "model_module_version": "1.5.0",
          "state": {
            "_dom_classes": [],
            "_model_module": "@jupyter-widgets/controls",
            "_model_module_version": "1.5.0",
            "_model_name": "HTMLModel",
            "_view_count": null,
            "_view_module": "@jupyter-widgets/controls",
            "_view_module_version": "1.5.0",
            "_view_name": "HTMLView",
            "description": "",
            "description_tooltip": null,
            "layout": "IPY_MODEL_aa00d5d9ed344b6b9cbfbf2503ee85e3",
            "placeholder": "​",
            "style": "IPY_MODEL_6ff78837d3174d63acc0c2da2d842be5",
            "value": "Downloading builder script: "
          }
        },
        "2ddb123a8f944d51ab22bf8c44528c41": {
          "model_module": "@jupyter-widgets/controls",
          "model_name": "FloatProgressModel",
          "model_module_version": "1.5.0",
          "state": {
            "_dom_classes": [],
            "_model_module": "@jupyter-widgets/controls",
            "_model_module_version": "1.5.0",
            "_model_name": "FloatProgressModel",
            "_view_count": null,
            "_view_module": "@jupyter-widgets/controls",
            "_view_module_version": "1.5.0",
            "_view_name": "ProgressView",
            "bar_style": "success",
            "description": "",
            "description_tooltip": null,
            "layout": "IPY_MODEL_437d64359871410aa9c998a77b6918eb",
            "max": 1853,
            "min": 0,
            "orientation": "horizontal",
            "style": "IPY_MODEL_4d65c12e9bae4bf2941512f22e00340c",
            "value": 1853
          }
        },
        "1366437382e947548ce2081842e465a4": {
          "model_module": "@jupyter-widgets/controls",
          "model_name": "HTMLModel",
          "model_module_version": "1.5.0",
          "state": {
            "_dom_classes": [],
            "_model_module": "@jupyter-widgets/controls",
            "_model_module_version": "1.5.0",
            "_model_name": "HTMLModel",
            "_view_count": null,
            "_view_module": "@jupyter-widgets/controls",
            "_view_module_version": "1.5.0",
            "_view_name": "HTMLView",
            "description": "",
            "description_tooltip": null,
            "layout": "IPY_MODEL_a987edae3616435bacfd9b56a99f8ea9",
            "placeholder": "​",
            "style": "IPY_MODEL_81060d4430504dbba73149bbe33a6982",
            "value": " 5.77k/? [00:00&lt;00:00, 121kB/s]"
          }
        },
        "031d7f874a0d4a6ba927f071807bf982": {
          "model_module": "@jupyter-widgets/base",
          "model_name": "LayoutModel",
          "model_module_version": "1.2.0",
          "state": {
            "_model_module": "@jupyter-widgets/base",
            "_model_module_version": "1.2.0",
            "_model_name": "LayoutModel",
            "_view_count": null,
            "_view_module": "@jupyter-widgets/base",
            "_view_module_version": "1.2.0",
            "_view_name": "LayoutView",
            "align_content": null,
            "align_items": null,
            "align_self": null,
            "border": null,
            "bottom": null,
            "display": null,
            "flex": null,
            "flex_flow": null,
            "grid_area": null,
            "grid_auto_columns": null,
            "grid_auto_flow": null,
            "grid_auto_rows": null,
            "grid_column": null,
            "grid_gap": null,
            "grid_row": null,
            "grid_template_areas": null,
            "grid_template_columns": null,
            "grid_template_rows": null,
            "height": null,
            "justify_content": null,
            "justify_items": null,
            "left": null,
            "margin": null,
            "max_height": null,
            "max_width": null,
            "min_height": null,
            "min_width": null,
            "object_fit": null,
            "object_position": null,
            "order": null,
            "overflow": null,
            "overflow_x": null,
            "overflow_y": null,
            "padding": null,
            "right": null,
            "top": null,
            "visibility": null,
            "width": null
          }
        },
        "aa00d5d9ed344b6b9cbfbf2503ee85e3": {
          "model_module": "@jupyter-widgets/base",
          "model_name": "LayoutModel",
          "model_module_version": "1.2.0",
          "state": {
            "_model_module": "@jupyter-widgets/base",
            "_model_module_version": "1.2.0",
            "_model_name": "LayoutModel",
            "_view_count": null,
            "_view_module": "@jupyter-widgets/base",
            "_view_module_version": "1.2.0",
            "_view_name": "LayoutView",
            "align_content": null,
            "align_items": null,
            "align_self": null,
            "border": null,
            "bottom": null,
            "display": null,
            "flex": null,
            "flex_flow": null,
            "grid_area": null,
            "grid_auto_columns": null,
            "grid_auto_flow": null,
            "grid_auto_rows": null,
            "grid_column": null,
            "grid_gap": null,
            "grid_row": null,
            "grid_template_areas": null,
            "grid_template_columns": null,
            "grid_template_rows": null,
            "height": null,
            "justify_content": null,
            "justify_items": null,
            "left": null,
            "margin": null,
            "max_height": null,
            "max_width": null,
            "min_height": null,
            "min_width": null,
            "object_fit": null,
            "object_position": null,
            "order": null,
            "overflow": null,
            "overflow_x": null,
            "overflow_y": null,
            "padding": null,
            "right": null,
            "top": null,
            "visibility": null,
            "width": null
          }
        },
        "6ff78837d3174d63acc0c2da2d842be5": {
          "model_module": "@jupyter-widgets/controls",
          "model_name": "DescriptionStyleModel",
          "model_module_version": "1.5.0",
          "state": {
            "_model_module": "@jupyter-widgets/controls",
            "_model_module_version": "1.5.0",
            "_model_name": "DescriptionStyleModel",
            "_view_count": null,
            "_view_module": "@jupyter-widgets/base",
            "_view_module_version": "1.2.0",
            "_view_name": "StyleView",
            "description_width": ""
          }
        },
        "437d64359871410aa9c998a77b6918eb": {
          "model_module": "@jupyter-widgets/base",
          "model_name": "LayoutModel",
          "model_module_version": "1.2.0",
          "state": {
            "_model_module": "@jupyter-widgets/base",
            "_model_module_version": "1.2.0",
            "_model_name": "LayoutModel",
            "_view_count": null,
            "_view_module": "@jupyter-widgets/base",
            "_view_module_version": "1.2.0",
            "_view_name": "LayoutView",
            "align_content": null,
            "align_items": null,
            "align_self": null,
            "border": null,
            "bottom": null,
            "display": null,
            "flex": null,
            "flex_flow": null,
            "grid_area": null,
            "grid_auto_columns": null,
            "grid_auto_flow": null,
            "grid_auto_rows": null,
            "grid_column": null,
            "grid_gap": null,
            "grid_row": null,
            "grid_template_areas": null,
            "grid_template_columns": null,
            "grid_template_rows": null,
            "height": null,
            "justify_content": null,
            "justify_items": null,
            "left": null,
            "margin": null,
            "max_height": null,
            "max_width": null,
            "min_height": null,
            "min_width": null,
            "object_fit": null,
            "object_position": null,
            "order": null,
            "overflow": null,
            "overflow_x": null,
            "overflow_y": null,
            "padding": null,
            "right": null,
            "top": null,
            "visibility": null,
            "width": null
          }
        },
        "4d65c12e9bae4bf2941512f22e00340c": {
          "model_module": "@jupyter-widgets/controls",
          "model_name": "ProgressStyleModel",
          "model_module_version": "1.5.0",
          "state": {
            "_model_module": "@jupyter-widgets/controls",
            "_model_module_version": "1.5.0",
            "_model_name": "ProgressStyleModel",
            "_view_count": null,
            "_view_module": "@jupyter-widgets/base",
            "_view_module_version": "1.2.0",
            "_view_name": "StyleView",
            "bar_color": null,
            "description_width": ""
          }
        },
        "a987edae3616435bacfd9b56a99f8ea9": {
          "model_module": "@jupyter-widgets/base",
          "model_name": "LayoutModel",
          "model_module_version": "1.2.0",
          "state": {
            "_model_module": "@jupyter-widgets/base",
            "_model_module_version": "1.2.0",
            "_model_name": "LayoutModel",
            "_view_count": null,
            "_view_module": "@jupyter-widgets/base",
            "_view_module_version": "1.2.0",
            "_view_name": "LayoutView",
            "align_content": null,
            "align_items": null,
            "align_self": null,
            "border": null,
            "bottom": null,
            "display": null,
            "flex": null,
            "flex_flow": null,
            "grid_area": null,
            "grid_auto_columns": null,
            "grid_auto_flow": null,
            "grid_auto_rows": null,
            "grid_column": null,
            "grid_gap": null,
            "grid_row": null,
            "grid_template_areas": null,
            "grid_template_columns": null,
            "grid_template_rows": null,
            "height": null,
            "justify_content": null,
            "justify_items": null,
            "left": null,
            "margin": null,
            "max_height": null,
            "max_width": null,
            "min_height": null,
            "min_width": null,
            "object_fit": null,
            "object_position": null,
            "order": null,
            "overflow": null,
            "overflow_x": null,
            "overflow_y": null,
            "padding": null,
            "right": null,
            "top": null,
            "visibility": null,
            "width": null
          }
        },
        "81060d4430504dbba73149bbe33a6982": {
          "model_module": "@jupyter-widgets/controls",
          "model_name": "DescriptionStyleModel",
          "model_module_version": "1.5.0",
          "state": {
            "_model_module": "@jupyter-widgets/controls",
            "_model_module_version": "1.5.0",
            "_model_name": "DescriptionStyleModel",
            "_view_count": null,
            "_view_module": "@jupyter-widgets/base",
            "_view_module_version": "1.2.0",
            "_view_name": "StyleView",
            "description_width": ""
          }
        }
      }
    }
  },
  "cells": [
    {
      "cell_type": "code",
      "execution_count": null,
      "metadata": {
        "id": "S_yJ5dJEVWXb"
      },
      "outputs": [],
      "source": [
        "pip install transformers"
      ]
    },
    {
      "cell_type": "code",
      "source": [
        "pip install -U sentence-transformers"
      ],
      "metadata": {
        "id": "YsPpx40ZVbUs"
      },
      "execution_count": null,
      "outputs": []
    },
    {
      "cell_type": "code",
      "source": [
        "pip install evaluate"
      ],
      "metadata": {
        "id": "scVcx0oiubKd"
      },
      "execution_count": null,
      "outputs": []
    },
    {
      "cell_type": "code",
      "source": [
        "from transformers import AutoModelForSequenceClassification, AutoModelForTokenClassification\n",
        "from transformers import TFAutoModelForSequenceClassification, AutoModel\n",
        "from transformers import AutoTokenizer, pipeline\n",
        "import numpy as np\n",
        "import pandas as pd\n",
        "from scipy.special import softmax\n",
        "import csv\n",
        "import urllib.request\n",
        "import re\n",
        "import numpy as np"
      ],
      "metadata": {
        "id": "Csxo4fRMVeJL"
      },
      "execution_count": 3,
      "outputs": []
    },
    {
      "cell_type": "code",
      "source": [
        "from scipy import stats"
      ],
      "metadata": {
        "id": "ihIWHCiipC-v"
      },
      "execution_count": 14,
      "outputs": []
    },
    {
      "cell_type": "code",
      "source": [
        "from evaluate import load"
      ],
      "metadata": {
        "id": "3OosJDwCukak"
      },
      "execution_count": 22,
      "outputs": []
    },
    {
      "cell_type": "code",
      "source": [
        "from sentence_transformers import SentenceTransformer, util\n",
        "import sentence_transformers"
      ],
      "metadata": {
        "id": "KRktX3s_V4zz"
      },
      "execution_count": 4,
      "outputs": []
    },
    {
      "cell_type": "code",
      "source": [
        "glue_metric = load('glue', 'stsb')"
      ],
      "metadata": {
        "colab": {
          "base_uri": "https://localhost:8080/",
          "height": 49,
          "referenced_widgets": [
            "c41da71ef1f94c289db080d6a8f4be1e",
            "5f50b11e7ee64f6489ccb971f28f1e27",
            "2ddb123a8f944d51ab22bf8c44528c41",
            "1366437382e947548ce2081842e465a4",
            "031d7f874a0d4a6ba927f071807bf982",
            "aa00d5d9ed344b6b9cbfbf2503ee85e3",
            "6ff78837d3174d63acc0c2da2d842be5",
            "437d64359871410aa9c998a77b6918eb",
            "4d65c12e9bae4bf2941512f22e00340c",
            "a987edae3616435bacfd9b56a99f8ea9",
            "81060d4430504dbba73149bbe33a6982"
          ]
        },
        "id": "09C47xkJpvsk",
        "outputId": "5dba0863-becb-47a0-df33-0a9d92bebd2a"
      },
      "execution_count": 23,
      "outputs": [
        {
          "output_type": "display_data",
          "data": {
            "text/plain": [
              "Downloading builder script:   0%|          | 0.00/1.85k [00:00<?, ?B/s]"
            ],
            "application/vnd.jupyter.widget-view+json": {
              "version_major": 2,
              "version_minor": 0,
              "model_id": "c41da71ef1f94c289db080d6a8f4be1e"
            }
          },
          "metadata": {}
        }
      ]
    },
    {
      "cell_type": "code",
      "source": [
        "sts_tr = pd.read_csv(\"/content/stsb-en-train.csv\", names = [\"Sent1\", \"Sent2\", \"Score\"])\n",
        "sts_tr"
      ],
      "metadata": {
        "colab": {
          "base_uri": "https://localhost:8080/",
          "height": 424
        },
        "id": "snciha6Ik4yf",
        "outputId": "f9863b99-e751-4205-f3d9-edcdd2041d9b"
      },
      "execution_count": 7,
      "outputs": [
        {
          "output_type": "execute_result",
          "data": {
            "text/plain": [
              "                                                  Sent1  \\\n",
              "0                                A plane is taking off.   \n",
              "1                       A man is playing a large flute.   \n",
              "2         A man is spreading shreded cheese on a pizza.   \n",
              "3                          Three men are playing chess.   \n",
              "4                           A man is playing the cello.   \n",
              "...                                                 ...   \n",
              "5744         Severe Gales As Storm Clodagh Hits Britain   \n",
              "5745  Dozens of Egyptians hostages taken by Libyan t...   \n",
              "5746                       President heading to Bahrain   \n",
              "5747         China, India vow to further bilateral ties   \n",
              "5748   Putin spokesman: Doping charges appear unfounded   \n",
              "\n",
              "                                                  Sent2  Score  \n",
              "0                           An air plane is taking off.   5.00  \n",
              "1                             A man is playing a flute.   3.80  \n",
              "2     A man is spreading shredded cheese on an uncoo...   3.80  \n",
              "3                            Two men are playing chess.   2.60  \n",
              "4                    A man seated is playing the cello.   4.25  \n",
              "...                                                 ...    ...  \n",
              "5744         Merkel pledges NATO solidarity with Latvia   0.00  \n",
              "5745  Egyptian boat crash death toll rises as more b...   0.00  \n",
              "5746  President Xi: China to continue help to fight ...   0.00  \n",
              "5747  China Scrambles to Reassure Jittery Stock Traders   0.00  \n",
              "5748  The Latest on Severe Weather: 1 Dead in Texas ...   0.00  \n",
              "\n",
              "[5749 rows x 3 columns]"
            ],
            "text/html": [
              "\n",
              "  <div id=\"df-8992e76b-a3da-4e8e-8cd8-99ed72f3d8f2\">\n",
              "    <div class=\"colab-df-container\">\n",
              "      <div>\n",
              "<style scoped>\n",
              "    .dataframe tbody tr th:only-of-type {\n",
              "        vertical-align: middle;\n",
              "    }\n",
              "\n",
              "    .dataframe tbody tr th {\n",
              "        vertical-align: top;\n",
              "    }\n",
              "\n",
              "    .dataframe thead th {\n",
              "        text-align: right;\n",
              "    }\n",
              "</style>\n",
              "<table border=\"1\" class=\"dataframe\">\n",
              "  <thead>\n",
              "    <tr style=\"text-align: right;\">\n",
              "      <th></th>\n",
              "      <th>Sent1</th>\n",
              "      <th>Sent2</th>\n",
              "      <th>Score</th>\n",
              "    </tr>\n",
              "  </thead>\n",
              "  <tbody>\n",
              "    <tr>\n",
              "      <th>0</th>\n",
              "      <td>A plane is taking off.</td>\n",
              "      <td>An air plane is taking off.</td>\n",
              "      <td>5.00</td>\n",
              "    </tr>\n",
              "    <tr>\n",
              "      <th>1</th>\n",
              "      <td>A man is playing a large flute.</td>\n",
              "      <td>A man is playing a flute.</td>\n",
              "      <td>3.80</td>\n",
              "    </tr>\n",
              "    <tr>\n",
              "      <th>2</th>\n",
              "      <td>A man is spreading shreded cheese on a pizza.</td>\n",
              "      <td>A man is spreading shredded cheese on an uncoo...</td>\n",
              "      <td>3.80</td>\n",
              "    </tr>\n",
              "    <tr>\n",
              "      <th>3</th>\n",
              "      <td>Three men are playing chess.</td>\n",
              "      <td>Two men are playing chess.</td>\n",
              "      <td>2.60</td>\n",
              "    </tr>\n",
              "    <tr>\n",
              "      <th>4</th>\n",
              "      <td>A man is playing the cello.</td>\n",
              "      <td>A man seated is playing the cello.</td>\n",
              "      <td>4.25</td>\n",
              "    </tr>\n",
              "    <tr>\n",
              "      <th>...</th>\n",
              "      <td>...</td>\n",
              "      <td>...</td>\n",
              "      <td>...</td>\n",
              "    </tr>\n",
              "    <tr>\n",
              "      <th>5744</th>\n",
              "      <td>Severe Gales As Storm Clodagh Hits Britain</td>\n",
              "      <td>Merkel pledges NATO solidarity with Latvia</td>\n",
              "      <td>0.00</td>\n",
              "    </tr>\n",
              "    <tr>\n",
              "      <th>5745</th>\n",
              "      <td>Dozens of Egyptians hostages taken by Libyan t...</td>\n",
              "      <td>Egyptian boat crash death toll rises as more b...</td>\n",
              "      <td>0.00</td>\n",
              "    </tr>\n",
              "    <tr>\n",
              "      <th>5746</th>\n",
              "      <td>President heading to Bahrain</td>\n",
              "      <td>President Xi: China to continue help to fight ...</td>\n",
              "      <td>0.00</td>\n",
              "    </tr>\n",
              "    <tr>\n",
              "      <th>5747</th>\n",
              "      <td>China, India vow to further bilateral ties</td>\n",
              "      <td>China Scrambles to Reassure Jittery Stock Traders</td>\n",
              "      <td>0.00</td>\n",
              "    </tr>\n",
              "    <tr>\n",
              "      <th>5748</th>\n",
              "      <td>Putin spokesman: Doping charges appear unfounded</td>\n",
              "      <td>The Latest on Severe Weather: 1 Dead in Texas ...</td>\n",
              "      <td>0.00</td>\n",
              "    </tr>\n",
              "  </tbody>\n",
              "</table>\n",
              "<p>5749 rows × 3 columns</p>\n",
              "</div>\n",
              "      <button class=\"colab-df-convert\" onclick=\"convertToInteractive('df-8992e76b-a3da-4e8e-8cd8-99ed72f3d8f2')\"\n",
              "              title=\"Convert this dataframe to an interactive table.\"\n",
              "              style=\"display:none;\">\n",
              "        \n",
              "  <svg xmlns=\"http://www.w3.org/2000/svg\" height=\"24px\"viewBox=\"0 0 24 24\"\n",
              "       width=\"24px\">\n",
              "    <path d=\"M0 0h24v24H0V0z\" fill=\"none\"/>\n",
              "    <path d=\"M18.56 5.44l.94 2.06.94-2.06 2.06-.94-2.06-.94-.94-2.06-.94 2.06-2.06.94zm-11 1L8.5 8.5l.94-2.06 2.06-.94-2.06-.94L8.5 2.5l-.94 2.06-2.06.94zm10 10l.94 2.06.94-2.06 2.06-.94-2.06-.94-.94-2.06-.94 2.06-2.06.94z\"/><path d=\"M17.41 7.96l-1.37-1.37c-.4-.4-.92-.59-1.43-.59-.52 0-1.04.2-1.43.59L10.3 9.45l-7.72 7.72c-.78.78-.78 2.05 0 2.83L4 21.41c.39.39.9.59 1.41.59.51 0 1.02-.2 1.41-.59l7.78-7.78 2.81-2.81c.8-.78.8-2.07 0-2.86zM5.41 20L4 18.59l7.72-7.72 1.47 1.35L5.41 20z\"/>\n",
              "  </svg>\n",
              "      </button>\n",
              "      \n",
              "  <style>\n",
              "    .colab-df-container {\n",
              "      display:flex;\n",
              "      flex-wrap:wrap;\n",
              "      gap: 12px;\n",
              "    }\n",
              "\n",
              "    .colab-df-convert {\n",
              "      background-color: #E8F0FE;\n",
              "      border: none;\n",
              "      border-radius: 50%;\n",
              "      cursor: pointer;\n",
              "      display: none;\n",
              "      fill: #1967D2;\n",
              "      height: 32px;\n",
              "      padding: 0 0 0 0;\n",
              "      width: 32px;\n",
              "    }\n",
              "\n",
              "    .colab-df-convert:hover {\n",
              "      background-color: #E2EBFA;\n",
              "      box-shadow: 0px 1px 2px rgba(60, 64, 67, 0.3), 0px 1px 3px 1px rgba(60, 64, 67, 0.15);\n",
              "      fill: #174EA6;\n",
              "    }\n",
              "\n",
              "    [theme=dark] .colab-df-convert {\n",
              "      background-color: #3B4455;\n",
              "      fill: #D2E3FC;\n",
              "    }\n",
              "\n",
              "    [theme=dark] .colab-df-convert:hover {\n",
              "      background-color: #434B5C;\n",
              "      box-shadow: 0px 1px 3px 1px rgba(0, 0, 0, 0.15);\n",
              "      filter: drop-shadow(0px 1px 2px rgba(0, 0, 0, 0.3));\n",
              "      fill: #FFFFFF;\n",
              "    }\n",
              "  </style>\n",
              "\n",
              "      <script>\n",
              "        const buttonEl =\n",
              "          document.querySelector('#df-8992e76b-a3da-4e8e-8cd8-99ed72f3d8f2 button.colab-df-convert');\n",
              "        buttonEl.style.display =\n",
              "          google.colab.kernel.accessAllowed ? 'block' : 'none';\n",
              "\n",
              "        async function convertToInteractive(key) {\n",
              "          const element = document.querySelector('#df-8992e76b-a3da-4e8e-8cd8-99ed72f3d8f2');\n",
              "          const dataTable =\n",
              "            await google.colab.kernel.invokeFunction('convertToInteractive',\n",
              "                                                     [key], {});\n",
              "          if (!dataTable) return;\n",
              "\n",
              "          const docLinkHtml = 'Like what you see? Visit the ' +\n",
              "            '<a target=\"_blank\" href=https://colab.research.google.com/notebooks/data_table.ipynb>data table notebook</a>'\n",
              "            + ' to learn more about interactive tables.';\n",
              "          element.innerHTML = '';\n",
              "          dataTable['output_type'] = 'display_data';\n",
              "          await google.colab.output.renderOutput(dataTable, element);\n",
              "          const docLink = document.createElement('div');\n",
              "          docLink.innerHTML = docLinkHtml;\n",
              "          element.appendChild(docLink);\n",
              "        }\n",
              "      </script>\n",
              "    </div>\n",
              "  </div>\n",
              "  "
            ]
          },
          "metadata": {},
          "execution_count": 7
        }
      ]
    },
    {
      "cell_type": "code",
      "source": [
        "sent1 = list(sts_tr[\"Sent1\"])\n",
        "sent2 = list(sts_tr[\"Sent2\"])\n",
        "score = list(sts_tr[\"Score\"])"
      ],
      "metadata": {
        "id": "R2W56uyBlY9O"
      },
      "execution_count": 8,
      "outputs": []
    },
    {
      "cell_type": "code",
      "source": [
        "tmp_score = np.array(score)\n",
        "scaled_score = tmp_score/5\n",
        "scaled_score.shape"
      ],
      "metadata": {
        "colab": {
          "base_uri": "https://localhost:8080/"
        },
        "id": "fyPFOV8qDaQ8",
        "outputId": "277dc794-e4fb-4290-a901-11fd60b9ba9a"
      },
      "execution_count": 13,
      "outputs": [
        {
          "output_type": "execute_result",
          "data": {
            "text/plain": [
              "(5749,)"
            ]
          },
          "metadata": {},
          "execution_count": 13
        }
      ]
    },
    {
      "cell_type": "markdown",
      "source": [
        "#MPNET V1 Embeddings on STS b Train "
      ],
      "metadata": {
        "id": "ZHqjyILHk0qK"
      }
    },
    {
      "cell_type": "code",
      "source": [
        "mpnet_v1 = SentenceTransformer('sentence-transformers/all-mpnet-base-v1')"
      ],
      "metadata": {
        "id": "x0IPNgNxV5mS"
      },
      "execution_count": null,
      "outputs": []
    },
    {
      "cell_type": "code",
      "source": [
        "mpnet_v1_sent1_emb = mpnet_v1.encode(sent1)\n",
        "mpnet_v1_sent2_emb = mpnet_v1.encode(sent2)"
      ],
      "metadata": {
        "id": "Zb5NeOV8lCrY"
      },
      "execution_count": 9,
      "outputs": []
    },
    {
      "cell_type": "code",
      "source": [
        "mp_v1_score = []\n",
        "for i in range(len(sent1)):\n",
        "  tmp = util.cos_sim(mpnet_v1_sent1_emb[i], mpnet_v1_sent2_emb[i])[0].cpu().T\n",
        "  mp_v1_score.append(tmp)\n",
        "\n",
        "mp_v1_score = np.array(mp_v1_score)"
      ],
      "metadata": {
        "id": "YhkWE2DVli5Q"
      },
      "execution_count": null,
      "outputs": []
    },
    {
      "cell_type": "code",
      "source": [
        "results = glue_metric.compute(predictions=mp_v1_score, references=scaled_score)\n",
        "results"
      ],
      "metadata": {
        "colab": {
          "base_uri": "https://localhost:8080/"
        },
        "id": "xx1I10ACutqY",
        "outputId": "d184306d-e2f7-4772-aba0-4e75c9cf134d"
      },
      "execution_count": 26,
      "outputs": [
        {
          "output_type": "execute_result",
          "data": {
            "text/plain": [
              "{'pearson': 0.8598188187338868, 'spearmanr': 0.8443610889564444}"
            ]
          },
          "metadata": {},
          "execution_count": 26
        }
      ]
    },
    {
      "cell_type": "markdown",
      "source": [
        "#MPNET V2 Embeddings on STS b Train "
      ],
      "metadata": {
        "id": "B_bB9jDLvBYj"
      }
    },
    {
      "cell_type": "code",
      "source": [
        "mpnet_v2 = SentenceTransformer('sentence-transformers/all-mpnet-base-v2')"
      ],
      "metadata": {
        "id": "mksct23zvBYm"
      },
      "execution_count": null,
      "outputs": []
    },
    {
      "cell_type": "code",
      "source": [
        "mpnet_v2_sent1_emb = mpnet_v2.encode(sent1)\n",
        "mpnet_v2_sent2_emb = mpnet_v2.encode(sent2)"
      ],
      "metadata": {
        "id": "8psq4uTsvBYm"
      },
      "execution_count": 28,
      "outputs": []
    },
    {
      "cell_type": "code",
      "source": [
        "mp_v2_score = []\n",
        "for i in range(len(sent1)):\n",
        "  tmp = util.cos_sim(mpnet_v2_sent1_emb[i], mpnet_v2_sent2_emb[i])[0].cpu().T\n",
        "  mp_v2_score.append(tmp)\n",
        "\n",
        "mp_v2_score = np.array(mp_v2_score)"
      ],
      "metadata": {
        "id": "ngE2lWKBvBYn"
      },
      "execution_count": null,
      "outputs": []
    },
    {
      "cell_type": "code",
      "source": [
        "results = glue_metric.compute(predictions=mp_v2_score, references=scaled_score)\n",
        "results"
      ],
      "metadata": {
        "colab": {
          "base_uri": "https://localhost:8080/"
        },
        "outputId": "0a98644c-0723-4268-f323-9c21d26e7f28",
        "id": "jLZa4Mm9vBYn"
      },
      "execution_count": 30,
      "outputs": [
        {
          "output_type": "execute_result",
          "data": {
            "text/plain": [
              "{'pearson': 0.8580658406452041, 'spearmanr': 0.8418432891255972}"
            ]
          },
          "metadata": {},
          "execution_count": 30
        }
      ]
    },
    {
      "cell_type": "markdown",
      "source": [
        "#All Roberta Large V1 Embeddings on STS b Train "
      ],
      "metadata": {
        "id": "QW-bPcYjygfb"
      }
    },
    {
      "cell_type": "code",
      "source": [
        "roberta_lg_v1 = SentenceTransformer('sentence-transformers/all-roberta-large-v1')"
      ],
      "metadata": {
        "id": "I-ZRM89eygfd"
      },
      "execution_count": null,
      "outputs": []
    },
    {
      "cell_type": "code",
      "source": [
        "roberta_lg_v1_sent1_emb = roberta_lg_v1.encode(sent1)\n",
        "roberta_lg_v1_sent2_emb = roberta_lg_v1.encode(sent2)"
      ],
      "metadata": {
        "id": "bMPX5ncHygfe"
      },
      "execution_count": 32,
      "outputs": []
    },
    {
      "cell_type": "code",
      "source": [
        "roberta_lg_v1_score = []\n",
        "for i in range(len(sent1)):\n",
        "  tmp = util.cos_sim(roberta_lg_v1_sent1_emb[i], roberta_lg_v1_sent2_emb[i])[0].cpu().T\n",
        "  roberta_lg_v1_score.append(tmp)\n",
        "\n",
        "roberta_lg_v1_score = np.array(roberta_lg_v1_score)"
      ],
      "metadata": {
        "colab": {
          "base_uri": "https://localhost:8080/"
        },
        "outputId": "cc31fa94-9c3e-4361-8b32-bb4f8f31cbbb",
        "id": "2BuHonpvygff"
      },
      "execution_count": 33,
      "outputs": [
        {
          "output_type": "stream",
          "name": "stderr",
          "text": [
            "/usr/local/lib/python3.7/dist-packages/ipykernel_launcher.py:6: FutureWarning: The input object of type 'Tensor' is an array-like implementing one of the corresponding protocols (`__array__`, `__array_interface__` or `__array_struct__`); but not a sequence (or 0-D). In the future, this object will be coerced as if it was first converted using `np.array(obj)`. To retain the old behaviour, you have to either modify the type 'Tensor', or assign to an empty array created with `np.empty(correct_shape, dtype=object)`.\n",
            "  \n",
            "/usr/local/lib/python3.7/dist-packages/ipykernel_launcher.py:6: VisibleDeprecationWarning: Creating an ndarray from ragged nested sequences (which is a list-or-tuple of lists-or-tuples-or ndarrays with different lengths or shapes) is deprecated. If you meant to do this, you must specify 'dtype=object' when creating the ndarray.\n",
            "  \n"
          ]
        }
      ]
    },
    {
      "cell_type": "code",
      "source": [
        "results = glue_metric.compute(predictions=roberta_lg_v1_score, references=scaled_score)\n",
        "results"
      ],
      "metadata": {
        "colab": {
          "base_uri": "https://localhost:8080/"
        },
        "outputId": "1731a735-9e7e-4423-bdd1-e2f2a9d2c23b",
        "id": "rqugPex2ygfg"
      },
      "execution_count": 34,
      "outputs": [
        {
          "output_type": "execute_result",
          "data": {
            "text/plain": [
              "{'pearson': 0.8624423474026786, 'spearmanr': 0.8484643296795868}"
            ]
          },
          "metadata": {},
          "execution_count": 34
        }
      ]
    },
    {
      "cell_type": "markdown",
      "source": [
        "#All MINI LM L12 V1 Embeddings on STS b Train "
      ],
      "metadata": {
        "id": "PU0EtdFdAFDM"
      }
    },
    {
      "cell_type": "code",
      "source": [
        "all_MiniLM_L12_v1 = SentenceTransformer('sentence-transformers/all-MiniLM-L12-v1')"
      ],
      "metadata": {
        "id": "5fQ7QHHiAFDO"
      },
      "execution_count": null,
      "outputs": []
    },
    {
      "cell_type": "code",
      "source": [
        "all_MiniLM_L12_v1_sent1_emb = all_MiniLM_L12_v1.encode(sent1)\n",
        "all_MiniLM_L12_v1_sent2_emb = all_MiniLM_L12_v1.encode(sent2)"
      ],
      "metadata": {
        "id": "fK_GvNjLAFDP"
      },
      "execution_count": 36,
      "outputs": []
    },
    {
      "cell_type": "code",
      "source": [
        "all_MiniLM_L12_v1_score = []\n",
        "for i in range(len(sent1)):\n",
        "  tmp = util.cos_sim(all_MiniLM_L12_v1_sent1_emb[i], all_MiniLM_L12_v1_sent2_emb[i])[0].cpu().T\n",
        "  all_MiniLM_L12_v1_score.append(tmp)\n",
        "\n",
        "all_MiniLM_L12_v1_score = np.array(all_MiniLM_L12_v1_score)"
      ],
      "metadata": {
        "colab": {
          "base_uri": "https://localhost:8080/"
        },
        "outputId": "33d7c221-bb3a-45e2-e3a5-2bb10dd707fd",
        "id": "WBhfa-zaAFDP"
      },
      "execution_count": 37,
      "outputs": [
        {
          "output_type": "stream",
          "name": "stderr",
          "text": [
            "/usr/local/lib/python3.7/dist-packages/ipykernel_launcher.py:6: FutureWarning: The input object of type 'Tensor' is an array-like implementing one of the corresponding protocols (`__array__`, `__array_interface__` or `__array_struct__`); but not a sequence (or 0-D). In the future, this object will be coerced as if it was first converted using `np.array(obj)`. To retain the old behaviour, you have to either modify the type 'Tensor', or assign to an empty array created with `np.empty(correct_shape, dtype=object)`.\n",
            "  \n",
            "/usr/local/lib/python3.7/dist-packages/ipykernel_launcher.py:6: VisibleDeprecationWarning: Creating an ndarray from ragged nested sequences (which is a list-or-tuple of lists-or-tuples-or ndarrays with different lengths or shapes) is deprecated. If you meant to do this, you must specify 'dtype=object' when creating the ndarray.\n",
            "  \n"
          ]
        }
      ]
    },
    {
      "cell_type": "code",
      "source": [
        "results = glue_metric.compute(predictions=all_MiniLM_L12_v1_score, references=scaled_score)\n",
        "results"
      ],
      "metadata": {
        "colab": {
          "base_uri": "https://localhost:8080/"
        },
        "outputId": "8231f789-21d5-40e5-c1e6-698ab363d58a",
        "id": "9yHUZE6dAFDQ"
      },
      "execution_count": 38,
      "outputs": [
        {
          "output_type": "execute_result",
          "data": {
            "text/plain": [
              "{'pearson': 0.844826511908591, 'spearmanr': 0.8224165007582125}"
            ]
          },
          "metadata": {},
          "execution_count": 38
        }
      ]
    },
    {
      "cell_type": "markdown",
      "source": [
        "#MiniLM L6 V2"
      ],
      "metadata": {
        "id": "xxZAtHB_RabD"
      }
    },
    {
      "cell_type": "code",
      "source": [
        "all_MiniLM_L6_v2 = SentenceTransformer('sentence-transformers/all-MiniLM-L6-v2')"
      ],
      "metadata": {
        "id": "FmPr5PA9ReXR"
      },
      "execution_count": null,
      "outputs": []
    },
    {
      "cell_type": "code",
      "source": [
        "all_MiniLM_L6_v2_sent1_emb = all_MiniLM_L6_v2.encode(sent1)\n",
        "all_MiniLM_L6_v2_sent2_emb = all_MiniLM_L6_v2.encode(sent2)"
      ],
      "metadata": {
        "id": "1UeHyLJYRk1Z"
      },
      "execution_count": 67,
      "outputs": []
    },
    {
      "cell_type": "code",
      "source": [
        "all_MiniLM_L6_v2_score = []\n",
        "for i in range(len(sent1)):\n",
        "  tmp = util.cos_sim(all_MiniLM_L6_v2_sent1_emb[i], all_MiniLM_L6_v2_sent2_emb[i])[0].cpu().T\n",
        "  all_MiniLM_L6_v2_score.append(tmp)\n",
        "\n",
        "all_MiniLM_L6_v2_score = np.array(all_MiniLM_L6_v2_score)"
      ],
      "metadata": {
        "id": "Q_0onsOGRrDi"
      },
      "execution_count": null,
      "outputs": []
    },
    {
      "cell_type": "code",
      "source": [
        "results = glue_metric.compute(predictions=all_MiniLM_L6_v2_score, references=scaled_score)\n",
        "results"
      ],
      "metadata": {
        "colab": {
          "base_uri": "https://localhost:8080/"
        },
        "id": "_A3etxGKSQL_",
        "outputId": "a1e2c895-763d-42e2-eed3-9d38afe92d05"
      },
      "execution_count": 69,
      "outputs": [
        {
          "output_type": "execute_result",
          "data": {
            "text/plain": [
              "{'pearson': 0.8348826546169758, 'spearmanr': 0.8100236161265245}"
            ]
          },
          "metadata": {},
          "execution_count": 69
        }
      ]
    },
    {
      "cell_type": "markdown",
      "source": [
        "#All DistilRoberta V1 Embeddings on STS b Train "
      ],
      "metadata": {
        "id": "1K1dQxhNCNXw"
      }
    },
    {
      "cell_type": "code",
      "source": [
        "all_distilroberta_v1 = SentenceTransformer('sentence-transformers/all-distilroberta-v1')"
      ],
      "metadata": {
        "id": "spBzGthkCNXy"
      },
      "execution_count": null,
      "outputs": []
    },
    {
      "cell_type": "code",
      "source": [
        "all_distilroberta_v1_sent1_emb = all_distilroberta_v1.encode(sent1)\n",
        "all_distilroberta_v1_sent2_emb = all_distilroberta_v1.encode(sent2)"
      ],
      "metadata": {
        "id": "yNpmsZdSCZMN"
      },
      "execution_count": 40,
      "outputs": []
    },
    {
      "cell_type": "code",
      "source": [
        "all_distilroberta_v1_score = []\n",
        "for i in range(len(sent1)):\n",
        "  tmp = util.cos_sim(all_distilroberta_v1_sent1_emb[i], all_distilroberta_v1_sent2_emb[i])[0].cpu().T\n",
        "  all_distilroberta_v1_score.append(tmp)\n",
        "\n",
        "all_distilroberta_v1_score = np.array(all_distilroberta_v1_score)"
      ],
      "metadata": {
        "id": "yhqrhqQICZMO"
      },
      "execution_count": null,
      "outputs": []
    },
    {
      "cell_type": "code",
      "source": [
        "results = glue_metric.compute(predictions=all_distilroberta_v1_score, references=scaled_score)\n",
        "results"
      ],
      "metadata": {
        "colab": {
          "base_uri": "https://localhost:8080/"
        },
        "outputId": "5dc0407b-9253-4354-f9e6-67d3bc8b983e",
        "id": "P-0jVcTbCZMO"
      },
      "execution_count": 42,
      "outputs": [
        {
          "output_type": "execute_result",
          "data": {
            "text/plain": [
              "{'pearson': 0.8517514218741723, 'spearmanr': 0.8288352774536412}"
            ]
          },
          "metadata": {},
          "execution_count": 42
        }
      ]
    },
    {
      "cell_type": "markdown",
      "source": [
        "#AllenAi Specter on STS b train"
      ],
      "metadata": {
        "id": "xDJS5x8wJZac"
      }
    },
    {
      "cell_type": "code",
      "source": [
        "allen_specter = SentenceTransformer('sentence-transformers/allenai-specter')"
      ],
      "metadata": {
        "id": "ZIxGyP3HJgC0"
      },
      "execution_count": null,
      "outputs": []
    },
    {
      "cell_type": "code",
      "source": [
        "allen_specter_sent1_emb = allen_specter.encode(sent1)\n",
        "allen_specter_sent2_emb = allen_specter.encode(sent2)"
      ],
      "metadata": {
        "id": "ZWR3QVrkJpbW"
      },
      "execution_count": 63,
      "outputs": []
    },
    {
      "cell_type": "code",
      "source": [
        "allen_specter_score = []\n",
        "for i in range(len(sent1)):\n",
        "  tmp = util.cos_sim(allen_specter_sent1_emb[i], allen_specter_sent2_emb[i])[0].cpu().T\n",
        "  allen_specter_score.append(tmp)\n",
        "\n",
        "allen_specter_score = np.array(allen_specter_score)"
      ],
      "metadata": {
        "id": "vmOlY2DFNCVG"
      },
      "execution_count": null,
      "outputs": []
    },
    {
      "cell_type": "code",
      "source": [
        "results = glue_metric.compute(predictions=allen_specter_score, references=scaled_score)\n",
        "results"
      ],
      "metadata": {
        "colab": {
          "base_uri": "https://localhost:8080/"
        },
        "id": "SdW5KAldOPH3",
        "outputId": "ef320238-dde5-41c4-c89f-afebf9c34932"
      },
      "execution_count": 65,
      "outputs": [
        {
          "output_type": "execute_result",
          "data": {
            "text/plain": [
              "{'pearson': 0.6462878536912912, 'spearmanr': 0.6112146043224389}"
            ]
          },
          "metadata": {},
          "execution_count": 65
        }
      ]
    },
    {
      "cell_type": "markdown",
      "source": [
        "#Mini LM Ensemble"
      ],
      "metadata": {
        "id": "XpUrmoWbPFn9"
      }
    },
    {
      "cell_type": "code",
      "source": [
        "v_add_sent1 = all_MiniLM_L12_v1_sent1_emb + all_MiniLM_L6_v2_sent1_emb\n",
        "v_add_sent2 = all_MiniLM_L12_v1_sent2_emb + all_MiniLM_L6_v2_sent2_emb"
      ],
      "metadata": {
        "id": "n-sHERt2PFX4"
      },
      "execution_count": 70,
      "outputs": []
    },
    {
      "cell_type": "code",
      "source": [
        "mini_lm_ensemble_score = []\n",
        "for i in range(len(sent1)):\n",
        "  tmp = util.cos_sim(v_add_sent1[i], v_add_sent2[i])[0].cpu().T\n",
        "  mini_lm_ensemble_score.append(tmp)\n",
        "\n",
        "mini_lm_ensemble_score = np.array(mini_lm_ensemble_score)"
      ],
      "metadata": {
        "id": "HECes0sHTIWT"
      },
      "execution_count": null,
      "outputs": []
    },
    {
      "cell_type": "code",
      "source": [
        "results = glue_metric.compute(predictions=mini_lm_ensemble_score, references=scaled_score)\n",
        "results"
      ],
      "metadata": {
        "colab": {
          "base_uri": "https://localhost:8080/"
        },
        "id": "uJ4tev1tTWBY",
        "outputId": "5a4ffce1-bc5b-4bb1-d4a7-ad706cd0b660"
      },
      "execution_count": 72,
      "outputs": [
        {
          "output_type": "execute_result",
          "data": {
            "text/plain": [
              "{'pearson': 0.8393035392174015, 'spearmanr': 0.8185991793470453}"
            ]
          },
          "metadata": {},
          "execution_count": 72
        }
      ]
    },
    {
      "cell_type": "markdown",
      "source": [
        "Horizontal Ensemble"
      ],
      "metadata": {
        "id": "5GCRO-MLUKS5"
      }
    },
    {
      "cell_type": "code",
      "source": [
        "h_add_sent1 = np.concatenate((all_MiniLM_L12_v1_sent1_emb, all_MiniLM_L6_v2_sent1_emb), axis=1)\n",
        "h_add_sent2 = np.concatenate((all_MiniLM_L12_v1_sent2_emb, all_MiniLM_L6_v2_sent2_emb), axis=1)"
      ],
      "metadata": {
        "id": "gmnOht3oUKS5"
      },
      "execution_count": 74,
      "outputs": []
    },
    {
      "cell_type": "code",
      "source": [
        "h_add_lm_ensemble_score = []\n",
        "\n",
        "for i in range(len(sent1)):\n",
        "  tmp = util.cos_sim(h_add_sent1[i], h_add_sent2[i])[0].cpu().T\n",
        "  h_add_lm_ensemble_score.append(tmp)\n",
        "\n",
        "h_add_lm_ensemble_score = np.array(h_add_lm_ensemble_score)"
      ],
      "metadata": {
        "colab": {
          "base_uri": "https://localhost:8080/"
        },
        "id": "XCVbFh5SUKS5",
        "outputId": "5e930dc1-5874-4f7d-934b-c71fa13367d0"
      },
      "execution_count": 75,
      "outputs": [
        {
          "output_type": "stream",
          "name": "stderr",
          "text": [
            "/usr/local/lib/python3.7/dist-packages/ipykernel_launcher.py:7: FutureWarning: The input object of type 'Tensor' is an array-like implementing one of the corresponding protocols (`__array__`, `__array_interface__` or `__array_struct__`); but not a sequence (or 0-D). In the future, this object will be coerced as if it was first converted using `np.array(obj)`. To retain the old behaviour, you have to either modify the type 'Tensor', or assign to an empty array created with `np.empty(correct_shape, dtype=object)`.\n",
            "  import sys\n",
            "/usr/local/lib/python3.7/dist-packages/ipykernel_launcher.py:7: VisibleDeprecationWarning: Creating an ndarray from ragged nested sequences (which is a list-or-tuple of lists-or-tuples-or ndarrays with different lengths or shapes) is deprecated. If you meant to do this, you must specify 'dtype=object' when creating the ndarray.\n",
            "  import sys\n"
          ]
        }
      ]
    },
    {
      "cell_type": "code",
      "source": [
        "results = glue_metric.compute(predictions=h_add_lm_ensemble_score, references=scaled_score)\n",
        "results"
      ],
      "metadata": {
        "colab": {
          "base_uri": "https://localhost:8080/"
        },
        "outputId": "8a6ca3f8-d732-477e-ae2a-afc9e19520bb",
        "id": "Cz_ZFMQHUKS6"
      },
      "execution_count": 76,
      "outputs": [
        {
          "output_type": "execute_result",
          "data": {
            "text/plain": [
              "{'pearson': 0.844262754071183, 'spearmanr': 0.8213579942926563}"
            ]
          },
          "metadata": {},
          "execution_count": 76
        }
      ]
    },
    {
      "cell_type": "markdown",
      "source": [
        "#Embedding Ensemble MpNET V1- Distill Roberta V1"
      ],
      "metadata": {
        "id": "Vhy_fYy5Evhx"
      }
    },
    {
      "cell_type": "markdown",
      "source": [
        "Vertical Ensemble"
      ],
      "metadata": {
        "id": "pPpmGEm8FXrX"
      }
    },
    {
      "cell_type": "code",
      "source": [
        "v_add_sent1 = mpnet_v1_sent1_emb + all_distilroberta_v1_sent1_emb\n",
        "v_add_sent2 = mpnet_v1_sent2_emb + all_distilroberta_v1_sent2_emb"
      ],
      "metadata": {
        "id": "xqBty2piE4oy"
      },
      "execution_count": 50,
      "outputs": []
    },
    {
      "cell_type": "code",
      "source": [
        "v_add_mpnet_distill_score = []\n",
        "\n",
        "for i in range(len(sent1)):\n",
        "  tmp = util.cos_sim(v_add_sent1[i], v_add_sent2[i])[0].cpu().T\n",
        "  v_add_mpnet_distill_score.append(tmp)\n",
        "\n",
        "v_add_mpnet_distill_score = np.array(v_add_mpnet_distill_score)"
      ],
      "metadata": {
        "id": "BX77BTxjGZQZ"
      },
      "execution_count": null,
      "outputs": []
    },
    {
      "cell_type": "code",
      "source": [
        "results = glue_metric.compute(predictions=v_add_mpnet_distill_score, references=scaled_score)\n",
        "results"
      ],
      "metadata": {
        "colab": {
          "base_uri": "https://localhost:8080/"
        },
        "id": "nmbLUrMLHzvG",
        "outputId": "f9d2429e-1de5-41dd-cca4-7faa60c86936"
      },
      "execution_count": 52,
      "outputs": [
        {
          "output_type": "execute_result",
          "data": {
            "text/plain": [
              "{'pearson': 0.8615021241736818, 'spearmanr': 0.8438469647590215}"
            ]
          },
          "metadata": {},
          "execution_count": 52
        }
      ]
    },
    {
      "cell_type": "markdown",
      "source": [
        "Horizontal Ensemble"
      ],
      "metadata": {
        "id": "DIfH5NSMIAaE"
      }
    },
    {
      "cell_type": "code",
      "source": [
        "h_add_sent1 = np.concatenate((mpnet_v1_sent1_emb, all_distilroberta_v1_sent1_emb), axis=1)\n",
        "h_add_sent2 = np.concatenate((mpnet_v1_sent2_emb, all_distilroberta_v1_sent2_emb), axis=1)"
      ],
      "metadata": {
        "id": "aCHV7j-GH47E"
      },
      "execution_count": 57,
      "outputs": []
    },
    {
      "cell_type": "code",
      "source": [
        "h_add_mpnet_distill_score = []\n",
        "\n",
        "for i in range(len(sent1)):\n",
        "  tmp = util.cos_sim(h_add_sent1[i], h_add_sent2[i])[0].cpu().T\n",
        "  h_add_mpnet_distill_score.append(tmp)\n",
        "\n",
        "h_add_mpnet_distill_score = np.array(h_add_mpnet_distill_score)"
      ],
      "metadata": {
        "id": "B1FoT5LEI5ni"
      },
      "execution_count": null,
      "outputs": []
    },
    {
      "cell_type": "code",
      "source": [
        "results = glue_metric.compute(predictions=h_add_mpnet_distill_score, references=scaled_score)\n",
        "results"
      ],
      "metadata": {
        "colab": {
          "base_uri": "https://localhost:8080/"
        },
        "outputId": "bf09112b-af2b-441c-b3d1-d9c1dd2de436",
        "id": "naWcr19lI5ni"
      },
      "execution_count": 60,
      "outputs": [
        {
          "output_type": "execute_result",
          "data": {
            "text/plain": [
              "{'pearson': 0.8617699573273537, 'spearmanr': 0.8441417031313329}"
            ]
          },
          "metadata": {},
          "execution_count": 60
        }
      ]
    },
    {
      "cell_type": "code",
      "source": [
        ""
      ],
      "metadata": {
        "id": "GLebSpz4JB_o"
      },
      "execution_count": null,
      "outputs": []
    }
  ]
}